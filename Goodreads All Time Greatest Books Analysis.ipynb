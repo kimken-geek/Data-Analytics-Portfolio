{
 "cells": [
  {
   "cell_type": "markdown",
   "id": "cbe9894b",
   "metadata": {},
   "source": [
    "## Descripton\n",
    "\n",
    "The data includes information about the top-rated books on Goodreads, as determined by user ratings and reviews.\n",
    "The notebook responds to the following questions\n",
    "\n",
    "1. Which books have the highest average star ratings? Which books have the lowest?\n",
    "2. What is the distribution of star ratings for all the books in the dataset? Are there any patterns or trends in the distribution?\n",
    "3. Which authors have the most books in the top-rated list? Are there any genres or themes that are particularly popular among the top-rated books?\n",
    "4. What is the correlation between the number of ratings and the number of reviews for each book? Are books with more ratings also more likely to have more reviews?\n",
    "5. Are there any relationships between the number of ratings or reviews and the star rating of the book? Do books with more ratings or reviews tend to have higher or lower star ratings?\n",
    "\n",
    "In this notebook, we are using the \"Goodreads All Time Greatest Books 8k Data\" which can be found [here](https://www.kaggle.com/datasets/azim069/goodreads-all-time-greatest-books-8k-data)"
   ]
  },
  {
   "cell_type": "markdown",
   "id": "708d7b07",
   "metadata": {},
   "source": [
    "### Import dependencies"
   ]
  },
  {
   "cell_type": "code",
   "execution_count": 5,
   "id": "a618f259",
   "metadata": {},
   "outputs": [],
   "source": [
    "import pandas as pd\n",
    "import numpy as np\n",
    "import matplotlib.pyplot as plt\n",
    "import seaborn as sns\n",
    "#to ignore warnings\n",
    "import warnings\n",
    "warnings.filterwarnings('ignore')\n",
    "\n",
    "# Read the data from CSV and name the dataframe as df\n",
    "df=pd.read_csv(\"./Goodreads All Time Greatest Books 8k Data.csv\")"
   ]
  },
  {
   "cell_type": "markdown",
   "id": "8d883fcf",
   "metadata": {},
   "source": [
    "### Data Exploration"
   ]
  },
  {
   "cell_type": "code",
   "execution_count": 6,
   "id": "1f0b3732",
   "metadata": {},
   "outputs": [
    {
     "data": {
      "text/html": [
       "<div>\n",
       "<style scoped>\n",
       "    .dataframe tbody tr th:only-of-type {\n",
       "        vertical-align: middle;\n",
       "    }\n",
       "\n",
       "    .dataframe tbody tr th {\n",
       "        vertical-align: top;\n",
       "    }\n",
       "\n",
       "    .dataframe thead th {\n",
       "        text-align: right;\n",
       "    }\n",
       "</style>\n",
       "<table border=\"1\" class=\"dataframe\">\n",
       "  <thead>\n",
       "    <tr style=\"text-align: right;\">\n",
       "      <th></th>\n",
       "      <th>Book_Name</th>\n",
       "      <th>Author</th>\n",
       "      <th>Average_star</th>\n",
       "      <th>Ratings</th>\n",
       "      <th>Reviews</th>\n",
       "      <th>5_Star</th>\n",
       "      <th>4_Star</th>\n",
       "      <th>3_Star</th>\n",
       "      <th>2_Star</th>\n",
       "      <th>1_Star</th>\n",
       "    </tr>\n",
       "  </thead>\n",
       "  <tbody>\n",
       "    <tr>\n",
       "      <th>0</th>\n",
       "      <td>To Kill a Mockingbird</td>\n",
       "      <td>Harper Lee</td>\n",
       "      <td>4.27</td>\n",
       "      <td>5,623,473</td>\n",
       "      <td>108,722</td>\n",
       "      <td>2,927,118</td>\n",
       "      <td>1,669,471</td>\n",
       "      <td>730,317</td>\n",
       "      <td>192,620</td>\n",
       "      <td>103,947</td>\n",
       "    </tr>\n",
       "    <tr>\n",
       "      <th>1</th>\n",
       "      <td>1984</td>\n",
       "      <td>George Orwell</td>\n",
       "      <td>4.19</td>\n",
       "      <td>4,134,439</td>\n",
       "      <td>98,891</td>\n",
       "      <td>1,956,290</td>\n",
       "      <td>1,345,678</td>\n",
       "      <td>588,373</td>\n",
       "      <td>158,757</td>\n",
       "      <td>85,341</td>\n",
       "    </tr>\n",
       "    <tr>\n",
       "      <th>2</th>\n",
       "      <td>Fahrenheit 451</td>\n",
       "      <td>Ray Bradbury</td>\n",
       "      <td>3.97</td>\n",
       "      <td>2,181,792</td>\n",
       "      <td>64,728</td>\n",
       "      <td>788,776</td>\n",
       "      <td>777,014</td>\n",
       "      <td>438,256</td>\n",
       "      <td>123,939</td>\n",
       "      <td>53,807</td>\n",
       "    </tr>\n",
       "    <tr>\n",
       "      <th>3</th>\n",
       "      <td>Animal Farm</td>\n",
       "      <td>George Orwell</td>\n",
       "      <td>3.98</td>\n",
       "      <td>3,521,050</td>\n",
       "      <td>81,746</td>\n",
       "      <td>1,310,631</td>\n",
       "      <td>1,229,834</td>\n",
       "      <td>676,221</td>\n",
       "      <td>200,989</td>\n",
       "      <td>103,375</td>\n",
       "    </tr>\n",
       "    <tr>\n",
       "      <th>4</th>\n",
       "      <td>The Hobbit</td>\n",
       "      <td>J.R.R. Tolkien</td>\n",
       "      <td>4.28</td>\n",
       "      <td>3,612,605</td>\n",
       "      <td>62,476</td>\n",
       "      <td>1,930,001</td>\n",
       "      <td>1,047,617</td>\n",
       "      <td>439,072</td>\n",
       "      <td>118,631</td>\n",
       "      <td>77,284</td>\n",
       "    </tr>\n",
       "  </tbody>\n",
       "</table>\n",
       "</div>"
      ],
      "text/plain": [
       "               Book_Name          Author  Average_star    Ratings  Reviews  \\\n",
       "0  To Kill a Mockingbird      Harper Lee          4.27  5,623,473  108,722   \n",
       "1                   1984   George Orwell          4.19  4,134,439   98,891   \n",
       "2         Fahrenheit 451    Ray Bradbury          3.97  2,181,792   64,728   \n",
       "3            Animal Farm   George Orwell          3.98  3,521,050   81,746   \n",
       "4             The Hobbit  J.R.R. Tolkien          4.28  3,612,605   62,476   \n",
       "\n",
       "      5_Star     4_Star   3_Star   2_Star   1_Star  \n",
       "0  2,927,118  1,669,471  730,317  192,620  103,947  \n",
       "1  1,956,290  1,345,678  588,373  158,757   85,341  \n",
       "2    788,776    777,014  438,256  123,939   53,807  \n",
       "3  1,310,631  1,229,834  676,221  200,989  103,375  \n",
       "4  1,930,001  1,047,617  439,072  118,631   77,284  "
      ]
     },
     "execution_count": 6,
     "metadata": {},
     "output_type": "execute_result"
    }
   ],
   "source": [
    "#load the 5 first rows of data to have a quick look.\n",
    "\n",
    "df.head()"
   ]
  },
  {
   "cell_type": "code",
   "execution_count": 7,
   "id": "31715883",
   "metadata": {
    "scrolled": true
   },
   "outputs": [
    {
     "data": {
      "text/html": [
       "<div>\n",
       "<style scoped>\n",
       "    .dataframe tbody tr th:only-of-type {\n",
       "        vertical-align: middle;\n",
       "    }\n",
       "\n",
       "    .dataframe tbody tr th {\n",
       "        vertical-align: top;\n",
       "    }\n",
       "\n",
       "    .dataframe thead th {\n",
       "        text-align: right;\n",
       "    }\n",
       "</style>\n",
       "<table border=\"1\" class=\"dataframe\">\n",
       "  <thead>\n",
       "    <tr style=\"text-align: right;\">\n",
       "      <th></th>\n",
       "      <th>Book_Name</th>\n",
       "      <th>Author</th>\n",
       "      <th>Average_star</th>\n",
       "      <th>Ratings</th>\n",
       "      <th>Reviews</th>\n",
       "      <th>5_Star</th>\n",
       "      <th>4_Star</th>\n",
       "      <th>3_Star</th>\n",
       "      <th>2_Star</th>\n",
       "      <th>1_Star</th>\n",
       "    </tr>\n",
       "  </thead>\n",
       "  <tbody>\n",
       "    <tr>\n",
       "      <th>7801</th>\n",
       "      <td>Winter in the Blood</td>\n",
       "      <td>James Welch</td>\n",
       "      <td>3.84</td>\n",
       "      <td>3,536</td>\n",
       "      <td>355</td>\n",
       "      <td>1,006</td>\n",
       "      <td>1,361</td>\n",
       "      <td>850</td>\n",
       "      <td>234</td>\n",
       "      <td>85</td>\n",
       "    </tr>\n",
       "    <tr>\n",
       "      <th>7802</th>\n",
       "      <td>The Inextinguishable Symphony: A True Story of...</td>\n",
       "      <td>Martin Goldsmith</td>\n",
       "      <td>4.20</td>\n",
       "      <td>1,011</td>\n",
       "      <td>121</td>\n",
       "      <td>442</td>\n",
       "      <td>391</td>\n",
       "      <td>129</td>\n",
       "      <td>39</td>\n",
       "      <td>10</td>\n",
       "    </tr>\n",
       "    <tr>\n",
       "      <th>7803</th>\n",
       "      <td>The Moon Is Down</td>\n",
       "      <td>John Steinbeck</td>\n",
       "      <td>3.92</td>\n",
       "      <td>25,470</td>\n",
       "      <td>2,068</td>\n",
       "      <td>7,210</td>\n",
       "      <td>10,651</td>\n",
       "      <td>6,135</td>\n",
       "      <td>1,188</td>\n",
       "      <td>286</td>\n",
       "    </tr>\n",
       "    <tr>\n",
       "      <th>7804</th>\n",
       "      <td>Ο ιππότης με τη σκουριασμένη πανοπλία</td>\n",
       "      <td>Robert Fisher</td>\n",
       "      <td>3.80</td>\n",
       "      <td>22,768</td>\n",
       "      <td>1,830</td>\n",
       "      <td>7,278</td>\n",
       "      <td>7,169</td>\n",
       "      <td>5,555</td>\n",
       "      <td>1,951</td>\n",
       "      <td>815</td>\n",
       "    </tr>\n",
       "    <tr>\n",
       "      <th>7805</th>\n",
       "      <td>Coolie</td>\n",
       "      <td>Mulk Raj Anand</td>\n",
       "      <td>3.80</td>\n",
       "      <td>810</td>\n",
       "      <td>82</td>\n",
       "      <td>187</td>\n",
       "      <td>353</td>\n",
       "      <td>209</td>\n",
       "      <td>46</td>\n",
       "      <td>15</td>\n",
       "    </tr>\n",
       "  </tbody>\n",
       "</table>\n",
       "</div>"
      ],
      "text/plain": [
       "                                              Book_Name            Author  \\\n",
       "7801                                Winter in the Blood       James Welch   \n",
       "7802  The Inextinguishable Symphony: A True Story of...  Martin Goldsmith   \n",
       "7803                                   The Moon Is Down    John Steinbeck   \n",
       "7804              Ο ιππότης με τη σκουριασμένη πανοπλία     Robert Fisher   \n",
       "7805                                             Coolie    Mulk Raj Anand   \n",
       "\n",
       "      Average_star Ratings Reviews 5_Star  4_Star 3_Star 2_Star 1_Star  \n",
       "7801          3.84   3,536     355  1,006   1,361    850    234     85  \n",
       "7802          4.20   1,011     121    442     391    129     39     10  \n",
       "7803          3.92  25,470   2,068  7,210  10,651  6,135  1,188    286  \n",
       "7804          3.80  22,768   1,830  7,278   7,169  5,555  1,951    815  \n",
       "7805          3.80     810      82    187     353    209     46     15  "
      ]
     },
     "execution_count": 7,
     "metadata": {},
     "output_type": "execute_result"
    }
   ],
   "source": [
    "#inspect the last 5 rows\n",
    "\n",
    "df.tail()"
   ]
  },
  {
   "cell_type": "code",
   "execution_count": 9,
   "id": "e58cccf5",
   "metadata": {},
   "outputs": [
    {
     "data": {
      "text/plain": [
       "(7806, 10)"
      ]
     },
     "execution_count": 9,
     "metadata": {},
     "output_type": "execute_result"
    }
   ],
   "source": [
    "# See how big is the data\n",
    "df.shape"
   ]
  },
  {
   "cell_type": "markdown",
   "id": "bc53fd53",
   "metadata": {},
   "source": [
    "The data contains 7806 rows and 10 columns"
   ]
  },
  {
   "cell_type": "code",
   "execution_count": 10,
   "id": "b0c0ca26",
   "metadata": {},
   "outputs": [
    {
     "name": "stdout",
     "output_type": "stream",
     "text": [
      "<class 'pandas.core.frame.DataFrame'>\n",
      "RangeIndex: 7806 entries, 0 to 7805\n",
      "Data columns (total 10 columns):\n",
      " #   Column        Non-Null Count  Dtype  \n",
      "---  ------        --------------  -----  \n",
      " 0   Book_Name     7806 non-null   object \n",
      " 1   Author        7806 non-null   object \n",
      " 2   Average_star  7806 non-null   float64\n",
      " 3   Ratings       7806 non-null   object \n",
      " 4   Reviews       7806 non-null   object \n",
      " 5   5_Star        7806 non-null   object \n",
      " 6   4_Star        7806 non-null   object \n",
      " 7   3_Star        7806 non-null   object \n",
      " 8   2_Star        7806 non-null   object \n",
      " 9   1_Star        7806 non-null   object \n",
      "dtypes: float64(1), object(9)\n",
      "memory usage: 610.0+ KB\n"
     ]
    }
   ],
   "source": [
    "#Inspect the columns\n",
    "df.info()"
   ]
  },
  {
   "cell_type": "markdown",
   "id": "576526dc",
   "metadata": {},
   "source": [
    "Upon inspection, the book name and author columns data types are of object type. The average star is a float data type, while the other columns are of object type which is wrong. The columns need to be converted to int type to allow for subsequent analysis. The error has been caused by the commas, which act as the thousand seperator. To fix this, we can use the str.replace() method to remove the commas from the values before converting them to integers. "
   ]
  },
  {
   "cell_type": "code",
   "execution_count": 13,
   "id": "4737ecfd",
   "metadata": {},
   "outputs": [],
   "source": [
    "#Change the data type of the ratings, reviews and star columns\n",
    "df['Ratings'] = df['Ratings'].str.replace(',', '').astype(int)\n",
    "df['Reviews'] = df['Reviews'].str.replace(',', '').astype(int)\n",
    "df['5_Star'] = df['5_Star'].str.replace(',', '').astype(int)\n",
    "df['4_Star'] = df['4_Star'].str.replace(',', '').astype(int)\n",
    "df['3_Star'] = df['3_Star'].str.replace(',', '').astype(int)\n",
    "df['2_Star'] = df['2_Star'].str.replace(',', '').astype(int)\n",
    "df['1_Star'] = df['1_Star'].str.replace(',', '').astype(int)"
   ]
  },
  {
   "cell_type": "code",
   "execution_count": 14,
   "id": "b2096747",
   "metadata": {},
   "outputs": [
    {
     "name": "stdout",
     "output_type": "stream",
     "text": [
      "<class 'pandas.core.frame.DataFrame'>\n",
      "RangeIndex: 7806 entries, 0 to 7805\n",
      "Data columns (total 10 columns):\n",
      " #   Column        Non-Null Count  Dtype  \n",
      "---  ------        --------------  -----  \n",
      " 0   Book_Name     7806 non-null   object \n",
      " 1   Author        7806 non-null   object \n",
      " 2   Average_star  7806 non-null   float64\n",
      " 3   Ratings       7806 non-null   int32  \n",
      " 4   Reviews       7806 non-null   int32  \n",
      " 5   5_Star        7806 non-null   int32  \n",
      " 6   4_Star        7806 non-null   int32  \n",
      " 7   3_Star        7806 non-null   int32  \n",
      " 8   2_Star        7806 non-null   int32  \n",
      " 9   1_Star        7806 non-null   int32  \n",
      "dtypes: float64(1), int32(7), object(2)\n",
      "memory usage: 396.5+ KB\n"
     ]
    }
   ],
   "source": [
    "#Inspect again\n",
    "df.info()"
   ]
  },
  {
   "cell_type": "markdown",
   "id": "b969a22c",
   "metadata": {},
   "source": [
    "### Data Cleaning"
   ]
  },
  {
   "cell_type": "code",
   "execution_count": 15,
   "id": "ad7279bb",
   "metadata": {},
   "outputs": [],
   "source": [
    "#check for missing data in the columns\n",
    "def check_missing_data(df):\n",
    "    \"\"\"\n",
    "    Check for missing data in the columns of a pandas DataFrame.\n",
    "    \n",
    "    Parameters:\n",
    "    df (pandas.DataFrame): The DataFrame to check for missing data.\n",
    "    \n",
    "    Returns:\n",
    "    pandas.DataFrame: A DataFrame showing the count and percentage of missing values for each column.\n",
    "    \"\"\"\n",
    "    # Get the count and percentage of missing values for each column\n",
    "    missing_count = df.isnull().sum()\n",
    "    missing_percent = (df.isnull().sum() / len(df)) * 100\n",
    "    \n",
    "    # Combine the count and percentage into a single DataFrame\n",
    "    missing_data = pd.concat([missing_count, missing_percent], axis=1, keys=['Count', 'Percent'])\n",
    "    \n",
    "    # Sort the DataFrame by percentage of missing values in descending order\n",
    "    missing_data = missing_data[missing_data['Count'] > 0].sort_values('Percent', ascending=False)\n",
    "    \n",
    "    # Return the missing data DataFrame\n",
    "    return missing_data\n"
   ]
  },
  {
   "cell_type": "code",
   "execution_count": 16,
   "id": "730ba14d",
   "metadata": {
    "scrolled": true
   },
   "outputs": [
    {
     "name": "stdout",
     "output_type": "stream",
     "text": [
      "Empty DataFrame\n",
      "Columns: [Count, Percent]\n",
      "Index: []\n"
     ]
    }
   ],
   "source": [
    "missing_data = check_missing_data(df)\n",
    "print(missing_data)"
   ]
  },
  {
   "cell_type": "markdown",
   "id": "81ea3c86",
   "metadata": {},
   "source": [
    "There is no missing data in the columns, which can also be ascertained by the 'isna()' method, which returns false, indicating that values are not missing. "
   ]
  },
  {
   "cell_type": "code",
   "execution_count": 18,
   "id": "63283943",
   "metadata": {
    "scrolled": true
   },
   "outputs": [
    {
     "data": {
      "text/html": [
       "<div>\n",
       "<style scoped>\n",
       "    .dataframe tbody tr th:only-of-type {\n",
       "        vertical-align: middle;\n",
       "    }\n",
       "\n",
       "    .dataframe tbody tr th {\n",
       "        vertical-align: top;\n",
       "    }\n",
       "\n",
       "    .dataframe thead th {\n",
       "        text-align: right;\n",
       "    }\n",
       "</style>\n",
       "<table border=\"1\" class=\"dataframe\">\n",
       "  <thead>\n",
       "    <tr style=\"text-align: right;\">\n",
       "      <th></th>\n",
       "      <th>Book_Name</th>\n",
       "      <th>Author</th>\n",
       "      <th>Average_star</th>\n",
       "      <th>Ratings</th>\n",
       "      <th>Reviews</th>\n",
       "      <th>5_Star</th>\n",
       "      <th>4_Star</th>\n",
       "      <th>3_Star</th>\n",
       "      <th>2_Star</th>\n",
       "      <th>1_Star</th>\n",
       "    </tr>\n",
       "  </thead>\n",
       "  <tbody>\n",
       "    <tr>\n",
       "      <th>0</th>\n",
       "      <td>False</td>\n",
       "      <td>False</td>\n",
       "      <td>False</td>\n",
       "      <td>False</td>\n",
       "      <td>False</td>\n",
       "      <td>False</td>\n",
       "      <td>False</td>\n",
       "      <td>False</td>\n",
       "      <td>False</td>\n",
       "      <td>False</td>\n",
       "    </tr>\n",
       "    <tr>\n",
       "      <th>1</th>\n",
       "      <td>False</td>\n",
       "      <td>False</td>\n",
       "      <td>False</td>\n",
       "      <td>False</td>\n",
       "      <td>False</td>\n",
       "      <td>False</td>\n",
       "      <td>False</td>\n",
       "      <td>False</td>\n",
       "      <td>False</td>\n",
       "      <td>False</td>\n",
       "    </tr>\n",
       "    <tr>\n",
       "      <th>2</th>\n",
       "      <td>False</td>\n",
       "      <td>False</td>\n",
       "      <td>False</td>\n",
       "      <td>False</td>\n",
       "      <td>False</td>\n",
       "      <td>False</td>\n",
       "      <td>False</td>\n",
       "      <td>False</td>\n",
       "      <td>False</td>\n",
       "      <td>False</td>\n",
       "    </tr>\n",
       "    <tr>\n",
       "      <th>3</th>\n",
       "      <td>False</td>\n",
       "      <td>False</td>\n",
       "      <td>False</td>\n",
       "      <td>False</td>\n",
       "      <td>False</td>\n",
       "      <td>False</td>\n",
       "      <td>False</td>\n",
       "      <td>False</td>\n",
       "      <td>False</td>\n",
       "      <td>False</td>\n",
       "    </tr>\n",
       "    <tr>\n",
       "      <th>4</th>\n",
       "      <td>False</td>\n",
       "      <td>False</td>\n",
       "      <td>False</td>\n",
       "      <td>False</td>\n",
       "      <td>False</td>\n",
       "      <td>False</td>\n",
       "      <td>False</td>\n",
       "      <td>False</td>\n",
       "      <td>False</td>\n",
       "      <td>False</td>\n",
       "    </tr>\n",
       "    <tr>\n",
       "      <th>...</th>\n",
       "      <td>...</td>\n",
       "      <td>...</td>\n",
       "      <td>...</td>\n",
       "      <td>...</td>\n",
       "      <td>...</td>\n",
       "      <td>...</td>\n",
       "      <td>...</td>\n",
       "      <td>...</td>\n",
       "      <td>...</td>\n",
       "      <td>...</td>\n",
       "    </tr>\n",
       "    <tr>\n",
       "      <th>7801</th>\n",
       "      <td>False</td>\n",
       "      <td>False</td>\n",
       "      <td>False</td>\n",
       "      <td>False</td>\n",
       "      <td>False</td>\n",
       "      <td>False</td>\n",
       "      <td>False</td>\n",
       "      <td>False</td>\n",
       "      <td>False</td>\n",
       "      <td>False</td>\n",
       "    </tr>\n",
       "    <tr>\n",
       "      <th>7802</th>\n",
       "      <td>False</td>\n",
       "      <td>False</td>\n",
       "      <td>False</td>\n",
       "      <td>False</td>\n",
       "      <td>False</td>\n",
       "      <td>False</td>\n",
       "      <td>False</td>\n",
       "      <td>False</td>\n",
       "      <td>False</td>\n",
       "      <td>False</td>\n",
       "    </tr>\n",
       "    <tr>\n",
       "      <th>7803</th>\n",
       "      <td>False</td>\n",
       "      <td>False</td>\n",
       "      <td>False</td>\n",
       "      <td>False</td>\n",
       "      <td>False</td>\n",
       "      <td>False</td>\n",
       "      <td>False</td>\n",
       "      <td>False</td>\n",
       "      <td>False</td>\n",
       "      <td>False</td>\n",
       "    </tr>\n",
       "    <tr>\n",
       "      <th>7804</th>\n",
       "      <td>False</td>\n",
       "      <td>False</td>\n",
       "      <td>False</td>\n",
       "      <td>False</td>\n",
       "      <td>False</td>\n",
       "      <td>False</td>\n",
       "      <td>False</td>\n",
       "      <td>False</td>\n",
       "      <td>False</td>\n",
       "      <td>False</td>\n",
       "    </tr>\n",
       "    <tr>\n",
       "      <th>7805</th>\n",
       "      <td>False</td>\n",
       "      <td>False</td>\n",
       "      <td>False</td>\n",
       "      <td>False</td>\n",
       "      <td>False</td>\n",
       "      <td>False</td>\n",
       "      <td>False</td>\n",
       "      <td>False</td>\n",
       "      <td>False</td>\n",
       "      <td>False</td>\n",
       "    </tr>\n",
       "  </tbody>\n",
       "</table>\n",
       "<p>7806 rows × 10 columns</p>\n",
       "</div>"
      ],
      "text/plain": [
       "      Book_Name  Author  Average_star  Ratings  Reviews  5_Star  4_Star  \\\n",
       "0         False   False         False    False    False   False   False   \n",
       "1         False   False         False    False    False   False   False   \n",
       "2         False   False         False    False    False   False   False   \n",
       "3         False   False         False    False    False   False   False   \n",
       "4         False   False         False    False    False   False   False   \n",
       "...         ...     ...           ...      ...      ...     ...     ...   \n",
       "7801      False   False         False    False    False   False   False   \n",
       "7802      False   False         False    False    False   False   False   \n",
       "7803      False   False         False    False    False   False   False   \n",
       "7804      False   False         False    False    False   False   False   \n",
       "7805      False   False         False    False    False   False   False   \n",
       "\n",
       "      3_Star  2_Star  1_Star  \n",
       "0      False   False   False  \n",
       "1      False   False   False  \n",
       "2      False   False   False  \n",
       "3      False   False   False  \n",
       "4      False   False   False  \n",
       "...      ...     ...     ...  \n",
       "7801   False   False   False  \n",
       "7802   False   False   False  \n",
       "7803   False   False   False  \n",
       "7804   False   False   False  \n",
       "7805   False   False   False  \n",
       "\n",
       "[7806 rows x 10 columns]"
      ]
     },
     "execution_count": 18,
     "metadata": {},
     "output_type": "execute_result"
    }
   ],
   "source": [
    "df.isna()"
   ]
  },
  {
   "cell_type": "code",
   "execution_count": 20,
   "id": "230557ca",
   "metadata": {},
   "outputs": [
    {
     "name": "stdout",
     "output_type": "stream",
     "text": [
      "No rows with missing values\n"
     ]
    }
   ],
   "source": [
    "#check for missing data in the rows\n",
    "def find_missing_rows(df):\n",
    "    \"\"\"Finds rows with missing values in a pandas DataFrame\"\"\"\n",
    "    null_rows = df[df.isnull().any(axis=1)]\n",
    "    if null_rows.empty:\n",
    "        print(\"No rows with missing values\")\n",
    "    else:\n",
    "        print(null_rows)\n",
    "find_missing_rows(df)"
   ]
  },
  {
   "cell_type": "markdown",
   "id": "b8a7e9e4",
   "metadata": {},
   "source": [
    "# Descriptive Statistics"
   ]
  },
  {
   "cell_type": "code",
   "execution_count": 21,
   "id": "87f65a6c",
   "metadata": {},
   "outputs": [
    {
     "data": {
      "text/html": [
       "<div>\n",
       "<style scoped>\n",
       "    .dataframe tbody tr th:only-of-type {\n",
       "        vertical-align: middle;\n",
       "    }\n",
       "\n",
       "    .dataframe tbody tr th {\n",
       "        vertical-align: top;\n",
       "    }\n",
       "\n",
       "    .dataframe thead th {\n",
       "        text-align: right;\n",
       "    }\n",
       "</style>\n",
       "<table border=\"1\" class=\"dataframe\">\n",
       "  <thead>\n",
       "    <tr style=\"text-align: right;\">\n",
       "      <th></th>\n",
       "      <th>Average_star</th>\n",
       "      <th>Ratings</th>\n",
       "      <th>Reviews</th>\n",
       "      <th>5_Star</th>\n",
       "      <th>4_Star</th>\n",
       "      <th>3_Star</th>\n",
       "      <th>2_Star</th>\n",
       "      <th>1_Star</th>\n",
       "    </tr>\n",
       "  </thead>\n",
       "  <tbody>\n",
       "    <tr>\n",
       "      <th>count</th>\n",
       "      <td>7806.000000</td>\n",
       "      <td>7.806000e+03</td>\n",
       "      <td>7806.000000</td>\n",
       "      <td>7.806000e+03</td>\n",
       "      <td>7.806000e+03</td>\n",
       "      <td>7.806000e+03</td>\n",
       "      <td>7806.000000</td>\n",
       "      <td>7806.000000</td>\n",
       "    </tr>\n",
       "    <tr>\n",
       "      <th>mean</th>\n",
       "      <td>4.018515</td>\n",
       "      <td>4.545232e+04</td>\n",
       "      <td>1651.837048</td>\n",
       "      <td>1.965059e+04</td>\n",
       "      <td>1.486187e+04</td>\n",
       "      <td>7.928684e+03</td>\n",
       "      <td>2073.846016</td>\n",
       "      <td>937.330515</td>\n",
       "    </tr>\n",
       "    <tr>\n",
       "      <th>std</th>\n",
       "      <td>0.273727</td>\n",
       "      <td>2.288467e+05</td>\n",
       "      <td>5614.056447</td>\n",
       "      <td>1.188569e+05</td>\n",
       "      <td>6.804682e+04</td>\n",
       "      <td>3.446933e+04</td>\n",
       "      <td>10143.449114</td>\n",
       "      <td>5490.670271</td>\n",
       "    </tr>\n",
       "    <tr>\n",
       "      <th>min</th>\n",
       "      <td>0.000000</td>\n",
       "      <td>0.000000e+00</td>\n",
       "      <td>0.000000</td>\n",
       "      <td>0.000000e+00</td>\n",
       "      <td>0.000000e+00</td>\n",
       "      <td>0.000000e+00</td>\n",
       "      <td>0.000000</td>\n",
       "      <td>0.000000</td>\n",
       "    </tr>\n",
       "    <tr>\n",
       "      <th>25%</th>\n",
       "      <td>3.850000</td>\n",
       "      <td>1.104250e+03</td>\n",
       "      <td>75.000000</td>\n",
       "      <td>3.850000e+02</td>\n",
       "      <td>3.710000e+02</td>\n",
       "      <td>2.090000e+02</td>\n",
       "      <td>48.000000</td>\n",
       "      <td>15.000000</td>\n",
       "    </tr>\n",
       "    <tr>\n",
       "      <th>50%</th>\n",
       "      <td>4.030000</td>\n",
       "      <td>5.318500e+03</td>\n",
       "      <td>315.000000</td>\n",
       "      <td>1.901500e+03</td>\n",
       "      <td>1.821000e+03</td>\n",
       "      <td>1.055500e+03</td>\n",
       "      <td>246.000000</td>\n",
       "      <td>80.000000</td>\n",
       "    </tr>\n",
       "    <tr>\n",
       "      <th>75%</th>\n",
       "      <td>4.200000</td>\n",
       "      <td>2.230650e+04</td>\n",
       "      <td>1139.750000</td>\n",
       "      <td>8.226750e+03</td>\n",
       "      <td>7.804750e+03</td>\n",
       "      <td>4.336250e+03</td>\n",
       "      <td>1027.000000</td>\n",
       "      <td>347.000000</td>\n",
       "    </tr>\n",
       "    <tr>\n",
       "      <th>max</th>\n",
       "      <td>5.000000</td>\n",
       "      <td>9.159410e+06</td>\n",
       "      <td>144817.000000</td>\n",
       "      <td>5.943341e+06</td>\n",
       "      <td>2.105678e+06</td>\n",
       "      <td>1.014721e+06</td>\n",
       "      <td>311433.000000</td>\n",
       "      <td>165743.000000</td>\n",
       "    </tr>\n",
       "  </tbody>\n",
       "</table>\n",
       "</div>"
      ],
      "text/plain": [
       "       Average_star       Ratings        Reviews        5_Star        4_Star  \\\n",
       "count   7806.000000  7.806000e+03    7806.000000  7.806000e+03  7.806000e+03   \n",
       "mean       4.018515  4.545232e+04    1651.837048  1.965059e+04  1.486187e+04   \n",
       "std        0.273727  2.288467e+05    5614.056447  1.188569e+05  6.804682e+04   \n",
       "min        0.000000  0.000000e+00       0.000000  0.000000e+00  0.000000e+00   \n",
       "25%        3.850000  1.104250e+03      75.000000  3.850000e+02  3.710000e+02   \n",
       "50%        4.030000  5.318500e+03     315.000000  1.901500e+03  1.821000e+03   \n",
       "75%        4.200000  2.230650e+04    1139.750000  8.226750e+03  7.804750e+03   \n",
       "max        5.000000  9.159410e+06  144817.000000  5.943341e+06  2.105678e+06   \n",
       "\n",
       "             3_Star         2_Star         1_Star  \n",
       "count  7.806000e+03    7806.000000    7806.000000  \n",
       "mean   7.928684e+03    2073.846016     937.330515  \n",
       "std    3.446933e+04   10143.449114    5490.670271  \n",
       "min    0.000000e+00       0.000000       0.000000  \n",
       "25%    2.090000e+02      48.000000      15.000000  \n",
       "50%    1.055500e+03     246.000000      80.000000  \n",
       "75%    4.336250e+03    1027.000000     347.000000  \n",
       "max    1.014721e+06  311433.000000  165743.000000  "
      ]
     },
     "execution_count": 21,
     "metadata": {},
     "output_type": "execute_result"
    }
   ],
   "source": [
    "#Get a quick summary of the data\n",
    "df.describe()"
   ]
  },
  {
   "cell_type": "markdown",
   "id": "86961588",
   "metadata": {},
   "source": [
    "### Which books have the highest average star ratings? Which books have the lowest? "
   ]
  },
  {
   "cell_type": "code",
   "execution_count": 22,
   "id": "5684104f",
   "metadata": {
    "scrolled": true
   },
   "outputs": [
    {
     "name": "stdout",
     "output_type": "stream",
     "text": [
      "                                              Book_Name  \\\n",
      "7644  Symbiosis and Separation: Towards a Psychology...   \n",
      "7294     Before You're A Stranger: New & Selected Poems   \n",
      "6641                 Fla-Flu e as multidões despertaram   \n",
      "6013  The Book of James, Faith, Love & Hope: An Expo...   \n",
      "6462                          Flights from the Lowlands   \n",
      "662                                       Siete Minutos   \n",
      "6568       Cien Rostros de María, para la contemplación   \n",
      "7356                                 Onder Duitse Knoet   \n",
      "5192  Yucatán y los orígenes del nuevo estado mexica...   \n",
      "3552                                 Ποιήματα 1978-1987   \n",
      "\n",
      "                          Author  Average_star  \n",
      "7644      Richard A. Koenigsberg           5.0  \n",
      "7294              Raymond Fraser           5.0  \n",
      "6641            Nelson Rodrigues           5.0  \n",
      "6013            Spiros Zodhiates           5.0  \n",
      "6462        Florence Morris Rose           5.0  \n",
      "662        Ismael Camacho Arango           5.0  \n",
      "6568      Clemente Arranz Enjuto           5.0  \n",
      "7356                 Staf Vivijs           5.0  \n",
      "5192  Francisco José Paoli Bolio           5.0  \n",
      "3552            Έκτωρ Κακναβάτος           5.0  \n",
      "                                              Book_Name  \\\n",
      "3734                                        Master Olof   \n",
      "7778                                       Chicago Loop   \n",
      "5197                                              Crazy   \n",
      "4058  There Are Alligators in Our Sewers: And Other ...   \n",
      "4661                         The Thomas Berryman Number   \n",
      "4278                                         Plain Girl   \n",
      "658                              Hermes' viper: a novel   \n",
      "7322           Scientology: The Fundamentals of Thought   \n",
      "4406              Colette: Well-Spoken Companion Series   \n",
      "3961                     Understanding Graciliano Ramos   \n",
      "\n",
      "                       Author  Average_star  \n",
      "3734        August Strindberg          2.94  \n",
      "7778             Paul Theroux          2.93  \n",
      "5197          Benjamin Lebert          2.91  \n",
      "4058             Paul Dickson          2.83  \n",
      "4661          James Patterson          2.83  \n",
      "4278           Arthur  Miller          2.75  \n",
      "658        Joseph T. McFadden          2.70  \n",
      "7322           L. Ron Hubbard          2.54  \n",
      "4406                  Colette          0.00  \n",
      "3961  Celso Lemos de Oliveira          0.00  \n"
     ]
    }
   ],
   "source": [
    "# Sort the DataFrame by 'Average_star' column in descending order\n",
    "sorted_df = df.sort_values(by='Average_star', ascending=False)\n",
    "\n",
    "# Print the top 10 books with the highest average star ratings\n",
    "print(sorted_df[['Book_Name', 'Author', 'Average_star']].head(10))\n",
    "\n",
    "# Print the top 10 books with the lowest average star ratings\n",
    "print(sorted_df[['Book_Name', 'Author', 'Average_star']].tail(10))\n"
   ]
  },
  {
   "cell_type": "markdown",
   "id": "b7df3219",
   "metadata": {},
   "source": [
    "### What is the distribution of star ratings for all the books in the dataset? Are there any patterns or trends in the distribution? "
   ]
  },
  {
   "cell_type": "code",
   "execution_count": 25,
   "id": "83e24cb5",
   "metadata": {
    "scrolled": false
   },
   "outputs": [
    {
     "data": {
      "image/png": "[encoded data removed]",
      "text/plain": [
       "<Figure size 640x480 with 1 Axes>"
      ]
     },
     "metadata": {},
     "output_type": "display_data"
    }
   ],
   "source": [
    "#Plot a histogram of 'Average_star' column\n",
    "plt.hist(df['Average_star'], bins=20)\n",
    "plt.xlabel('Star Rating')\n",
    "plt.ylabel('Count')\n",
    "plt.title('Distribution of Star Ratings for All Books')\n",
    "plt.show()"
   ]
  },
  {
   "cell_type": "markdown",
   "id": "768f9a3f",
   "metadata": {},
   "source": [
    "The distribution of star ratings for all the books in the dataset appears to be right-skewed or positively skewed, with a concentration of ratings between 3 and 5, and the majority of the ratings being 4.\n",
    "\n",
    "The fact that the distribution is right-skewed suggests that there are more books with higher ratings than lower ratings. The concentration of ratings between 3 and 5 indicates that users tend to rate books positively, with very few books receiving ratings below 3. The majority of ratings being 4 suggests that users are generally satisfied with the books they read, but there is still some variability in the ratings."
   ]
  },
  {
   "cell_type": "markdown",
   "id": "3d21f9eb",
   "metadata": {},
   "source": [
    "### Which authors have the most books in the top-rated list? "
   ]
  },
  {
   "cell_type": "code",
   "execution_count": 27,
   "id": "87ea5f52",
   "metadata": {},
   "outputs": [],
   "source": [
    "#GROUP the dataset by author and the count of books each has\n",
    "top_books_by_author = df.groupby('Author')['Book_Name'].count().reset_index()\n",
    "top_books_by_author = top_books_by_author.rename(columns={'Book_Name': 'Num_Top_Books'})\n",
    "top_books_by_author = top_books_by_author.sort_values('Num_Top_Books', ascending=False)"
   ]
  },
  {
   "cell_type": "code",
   "execution_count": 28,
   "id": "e7a37a39",
   "metadata": {
    "scrolled": true
   },
   "outputs": [
    {
     "name": "stdout",
     "output_type": "stream",
     "text": [
      "               Author  Num_Top_Books\n",
      "3482     V.C. Andrews             43\n",
      "3274     Stephen King             39\n",
      "30    Agatha Christie             39\n",
      "2817   Philip K. Dick             36\n",
      "470        C.S. Lewis             32\n",
      "3379  Terry Pratchett             27\n",
      "620           Colette             24\n",
      "2689   P.G. Wodehouse             24\n",
      "1480     Isaac Asimov             24\n",
      "1984   K.A. Applegate             24\n"
     ]
    }
   ],
   "source": [
    "#\n",
    "top_authors = top_books_by_author.head(10)\n",
    "print(top_authors)"
   ]
  },
  {
   "cell_type": "markdown",
   "id": "55a0d2a5",
   "metadata": {},
   "source": [
    "### What is the correlation between the number of ratings and the number of reviews for each book? Are books with more ratings also more likely to have more reviews?"
   ]
  },
  {
   "cell_type": "code",
   "execution_count": 29,
   "id": "a3d4c553",
   "metadata": {},
   "outputs": [
    {
     "data": {
      "image/png": "[encoded data removed]",
      "text/plain": [
       "<Figure size 640x480 with 1 Axes>"
      ]
     },
     "metadata": {},
     "output_type": "display_data"
    }
   ],
   "source": [
    "#Plot a scatter plot\n",
    "plt.scatter(df['Ratings'], df['Reviews'])\n",
    "plt.xlabel('Number of Ratings')\n",
    "plt.ylabel('Number of Reviews')\n",
    "plt.show()"
   ]
  },
  {
   "cell_type": "code",
   "execution_count": 30,
   "id": "4b3c6e2b",
   "metadata": {},
   "outputs": [
    {
     "name": "stdout",
     "output_type": "stream",
     "text": [
      "Correlation coefficient:  0.9054820776480227\n"
     ]
    }
   ],
   "source": [
    "#Calculate the correlation coefficient\n",
    "corr = df['Ratings'].corr(df['Reviews'])\n",
    "print(\"Correlation coefficient: \", corr)"
   ]
  },
  {
   "cell_type": "markdown",
   "id": "e9e1e47f",
   "metadata": {},
   "source": [
    "Based on the scatter plot and correlation coefficient, we can see that there is a positive correlation between the number of ratings and the number of reviews, indicating that books with more ratings are more likely to have more reviews."
   ]
  },
  {
   "cell_type": "markdown",
   "id": "652f5bfe",
   "metadata": {},
   "source": [
    "### Are there any relationships between the number of ratings or reviews and the star rating of the book? Do books with more ratings or reviews tend to have higher or lower star ratings?"
   ]
  },
  {
   "cell_type": "code",
   "execution_count": 31,
   "id": "c41ec9a4",
   "metadata": {
    "scrolled": true
   },
   "outputs": [
    {
     "name": "stdout",
     "output_type": "stream",
     "text": [
      "              Average_star   Ratings   Reviews\n",
      "Average_star      1.000000  0.062416  0.056337\n",
      "Ratings           0.062416  1.000000  0.905482\n",
      "Reviews           0.056337  0.905482  1.000000\n"
     ]
    }
   ],
   "source": [
    "#calculate the correlation coefficients between the number of ratings/reviews and the average star rating. \n",
    "corr_matrix = df[['Average_star', 'Ratings', 'Reviews']].astype(float).corr()\n",
    "print(corr_matrix)"
   ]
  },
  {
   "cell_type": "markdown",
   "id": "00be57d9",
   "metadata": {},
   "source": [
    "The correlation between Average_star and Ratings is positive and weak (0.0624), indicating that there is a small positive relationship between the average star rating of a book and the number of ratings it has received.\n",
    "\n",
    "The correlation between Average_star and Reviews is also positive and weak (0.0563), indicating that there is a small positive relationship between the average star rating of a book and the number of reviews it has received.\n",
    "\n",
    "Finally, as earlier noted, the correlation between Ratings and Reviews is strong and positive (0.9055), indicating a high positive relationship between the number of ratings and the number of reviews a book has received. This suggests that books that are more popular and have more ratings are also more likely to have more reviews."
   ]
  },
  {
   "cell_type": "code",
   "execution_count": 32,
   "id": "2e2d7dbb",
   "metadata": {
    "scrolled": true
   },
   "outputs": [
    {
     "data": {
      "image/png": "[encoded data removed]",
      "text/plain": [
       "<Figure size 640x480 with 1 Axes>"
      ]
     },
     "metadata": {},
     "output_type": "display_data"
    }
   ],
   "source": [
    "#create a scatterplot of the number of ratings vs. the average star rating \n",
    "plt.scatter(df['Ratings'], df['Average_star'])\n",
    "plt.xlabel('Number of ratings')\n",
    "plt.ylabel('Average star rating')\n",
    "plt.show()"
   ]
  },
  {
   "cell_type": "code",
   "execution_count": 33,
   "id": "4a477e50",
   "metadata": {
    "scrolled": true
   },
   "outputs": [
    {
     "data": {
      "image/png": "[encoded data removed]",
      "text/plain": [
       "<Figure size 640x480 with 1 Axes>"
      ]
     },
     "metadata": {},
     "output_type": "display_data"
    }
   ],
   "source": [
    "#Create a scatterplot of the number of reviews vs average star rating\n",
    "plt.scatter(df['Reviews'], df['Average_star'])\n",
    "plt.xlabel('Number of reviews')\n",
    "plt.ylabel('Average star rating')\n",
    "plt.show()\n"
   ]
  }
 ],
 "metadata": {
  "kernelspec": {
   "display_name": "Python 3 (ipykernel)",
   "language": "python",
   "name": "python3"
  },
  "language_info": {
   "codemirror_mode": {
    "name": "ipython",
    "version": 3
   },
   "file_extension": ".py",
   "mimetype": "text/x-python",
   "name": "python",
   "nbconvert_exporter": "python",
   "pygments_lexer": "ipython3",
   "version": "3.9.13"
  }
 },
 "nbformat": 4,
 "nbformat_minor": 5
}
